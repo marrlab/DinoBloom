{
 "cells": [
  {
   "cell_type": "code",
   "execution_count": null,
   "metadata": {},
   "outputs": [],
   "source": [
    "%load_ext autoreload\n",
    "%autoreload 2\n",
    "from pathlib import Path\n",
    "from PIL import Image\n",
    "import numpy as np\n",
    "from tqdm import tqdm\n",
    "import torchvision.transforms.functional as f\n",
    "import torch\n",
    "import h5py"
   ]
  },
  {
   "cell_type": "code",
   "execution_count": null,
   "metadata": {},
   "outputs": [],
   "source": [
    "def inverse_normalize(tensor, mean, std):\n",
    "    for t, m, s in zip(tensor, mean, std):\n",
    "        t.mul_(s).add_(m)\n",
    "    return tensor"
   ]
  },
  {
   "cell_type": "code",
   "execution_count": null,
   "metadata": {},
   "outputs": [],
   "source": [
    "patches = list(Path(\"/lustre/groups/shared/histology_data/TCGA/ACC/patches\").glob(\"**/*.h5\"))\n",
    "# patches = list(Path(\"/lustre/groups/shared/tcga/CRC/patches/512px_crc_wonorm_complete_diag_frozen\").glob(\"**/*.jpeg\"))\n",
    "# patches = np.loadtxt(\"/lustre/groups/shared/histology_data/TCGA/CRC/patches/512px_crc_wonorm_complete_diag_frozen.txt\", dtype=str, max_rows=100).tolist()"
   ]
  },
  {
   "cell_type": "code",
   "execution_count": null,
   "metadata": {},
   "outputs": [],
   "source": [
    "from dinov2.data import DataAugmentationDINO"
   ]
  },
  {
   "cell_type": "code",
   "execution_count": null,
   "metadata": {},
   "outputs": [],
   "source": [
    "data_transform = DataAugmentationDINO(\n",
    "    (1., 1.), #cfg.crops.global_crops_scale,\n",
    "    (0.32, 0.32), #cfg.crops.local_crops_scale,\n",
    "    8, #cfg.crops.local_crops_number,\n",
    "    224, #global_crops_size=cfg.crops.global_crops_size,\n",
    "    local_crops_size=98, #cfg.crops.local_crops_size,\n",
    ")"
   ]
  },
  {
   "cell_type": "code",
   "execution_count": null,
   "metadata": {},
   "outputs": [],
   "source": [
    "patch = Image.open(patches[70]).convert(mode=\"RGB\")"
   ]
  },
  {
   "cell_type": "code",
   "execution_count": null,
   "metadata": {},
   "outputs": [],
   "source": [
    "out = data_transform(patch)"
   ]
  },
  {
   "cell_type": "code",
   "execution_count": null,
   "metadata": {},
   "outputs": [],
   "source": [
    "rev = inverse_normalize(tensor=out['global_crops'][1], mean=(0.485, 0.456, 0.406), std=(0.229, 0.224, 0.225))\n",
    "img = f.to_pil_image(rev)\n",
    "img"
   ]
  },
  {
   "cell_type": "code",
   "execution_count": null,
   "metadata": {},
   "outputs": [],
   "source": [
    "rev = inverse_normalize(tensor=out['local_crops'][1], mean=(0.485, 0.456, 0.406), std=(0.229, 0.224, 0.225))\n",
    "img = f.to_pil_image(rev)\n",
    "img"
   ]
  },
  {
   "cell_type": "code",
   "execution_count": null,
   "metadata": {},
   "outputs": [],
   "source": [
    "patch"
   ]
  },
  {
   "cell_type": "code",
   "execution_count": null,
   "metadata": {},
   "outputs": [],
   "source": [
    "# random crop to (256, 256)\n",
    "h, w = patch.size\n",
    "i = torch.randint(0, h - 224 + 1, size=(1,)).item()\n",
    "j = torch.randint(0, w - 224 + 1, size=(1,)).item()\n",
    "patch = f.crop(patch, i, j, 224, 224)\n",
    "\n",
    "out = data_transform(patch)\n",
    "rev = inverse_normalize(tensor=out['global_crops'][1], mean=(0.485, 0.456, 0.406), std=(0.229, 0.224, 0.225))\n",
    "img = f.to_pil_image(rev)\n",
    "img"
   ]
  },
  {
   "cell_type": "code",
   "execution_count": null,
   "metadata": {},
   "outputs": [],
   "source": [
    "# rev = inverse_normalize(tensor=out['global_crops_teacher'][1], mean=(0.485, 0.456, 0.406), std=(0.229, 0.224, 0.225))\n",
    "# img = f.to_pil_image(rev)\n",
    "img = f.to_pil_image(out['global_crops_teacher'][1])\n",
    "img"
   ]
  },
  {
   "cell_type": "code",
   "execution_count": null,
   "metadata": {},
   "outputs": [],
   "source": [
    "rev = inverse_normalize(tensor=out['local_crops'][1], mean=(0.485, 0.456, 0.406), std=(0.229, 0.224, 0.225))\n",
    "img = f.to_pil_image(rev)\n",
    "img"
   ]
  },
  {
   "cell_type": "code",
   "execution_count": null,
   "metadata": {},
   "outputs": [],
   "source": [
    "patch"
   ]
  },
  {
   "cell_type": "code",
   "execution_count": null,
   "metadata": {},
   "outputs": [],
   "source": [
    "out.keys()"
   ]
  },
  {
   "cell_type": "code",
   "execution_count": null,
   "metadata": {},
   "outputs": [],
   "source": [
    "%%timeit\n",
    "# for i in tqdm(range(10)):\n",
    "patch = Image.open(patches[0]).convert(mode=\"RGB\")"
   ]
  },
  {
   "cell_type": "code",
   "execution_count": null,
   "metadata": {},
   "outputs": [],
   "source": [
    "# %%timeit\n",
    "# patches = list(Path(\"/lustre/groups/shared/histology_data/TCGA/\").glob(\"**/*.h5\"))\n",
    "# patches_dx = list(Path(\"/lustre/groups/shared/histology_data/TCGA\").glob(\"**/*.j[pe]g]\"))\n",
    "# patches_dx = list(Path(\"/lustre/groups/shared/histology_data/TCGA/\").glob(\"**/patch*/0512_px_20_mag*/*DX*.h5\"))\n",
    "patches = np.loadtxt(\"/lustre/groups/shared/histology_data/TCGA_h5patches.txt\", dtype=str)\n",
    "# patches = np.loadtxt(\"/lustre/groups/shared/histology_data/TCGA/CRC/patches/512px_crc_wonorm_complete_diag_frozen.txt\", dtype=str, max_rows=100).tolist()\n"
   ]
  },
  {
   "cell_type": "code",
   "execution_count": null,
   "metadata": {},
   "outputs": [],
   "source": [
    "%%timeit\n",
    "# open images from h5 file\n",
    "# path = \"/lustre/groups/shared/histology_data/TCGA/HNSC/featureses/0512_px_20_mag_otsu/TCGA-4P-AA8J-01Z-00-DX1.h5\"\n",
    "# for i in tqdm(range(10)):\n",
    "file = h5py.File(patches[0], 'r')\n",
    "patch_id = torch.randint(file['data'].shape[0], (1,)).item()\n",
    "img = Image.fromarray(file['data'][patch_id])#.convert(mode=\"RGB\")"
   ]
  },
  {
   "cell_type": "code",
   "execution_count": null,
   "metadata": {},
   "outputs": [],
   "source": [
    "%%timeit\n",
    "file = h5py.File(patches[0], 'r')\n",
    "img = Image.fromarray(file['data'][0])#.convert(mode=\"RGB\")"
   ]
  },
  {
   "cell_type": "code",
   "execution_count": null,
   "metadata": {},
   "outputs": [],
   "source": [
    "%%timeit\n",
    "# open image from h5 file\n",
    "with h5py.File(patches[0], 'r') as file:\n",
    "    patch_id = torch.randint(file['data'].shape[0], (1,)).item()\n",
    "    img = Image.fromarray(file['data'][patch_id])#.convert(mode=\"RGB\")"
   ]
  },
  {
   "cell_type": "code",
   "execution_count": null,
   "metadata": {},
   "outputs": [],
   "source": [
    "# %%timeit\n",
    "# open image from h5 file\n",
    "file = h5py.File(patches[10], 'r')\n",
    "patch_id = torch.randint(file['data'].shape[0], (1,)).item()\n",
    "img = Image.fromarray(file['data'][patch_id])#.convert(mode=\"RGB\")"
   ]
  },
  {
   "cell_type": "code",
   "execution_count": null,
   "metadata": {},
   "outputs": [],
   "source": [
    "img"
   ]
  },
  {
   "cell_type": "code",
   "execution_count": null,
   "metadata": {},
   "outputs": [],
   "source": [
    "file['data']"
   ]
  },
  {
   "cell_type": "code",
   "execution_count": null,
   "metadata": {},
   "outputs": [],
   "source": [
    "len(patches)"
   ]
  },
  {
   "cell_type": "code",
   "execution_count": null,
   "metadata": {},
   "outputs": [],
   "source": [
    "len(patches_dx)"
   ]
  },
  {
   "cell_type": "code",
   "execution_count": null,
   "metadata": {},
   "outputs": [],
   "source": [
    "patches[0]"
   ]
  },
  {
   "cell_type": "code",
   "execution_count": null,
   "metadata": {},
   "outputs": [],
   "source": [
    "p = []\n",
    "for i in tqdm(range(1000)):\n",
    "    p.append(h5py.File(patches[i], 'r'))"
   ]
  },
  {
   "cell_type": "code",
   "execution_count": null,
   "metadata": {},
   "outputs": [],
   "source": []
  }
 ],
 "metadata": {
  "kernelspec": {
   "display_name": "dinov2",
   "language": "python",
   "name": "python3"
  },
  "language_info": {
   "codemirror_mode": {
    "name": "ipython",
    "version": 3
   },
   "file_extension": ".py",
   "mimetype": "text/x-python",
   "name": "python",
   "nbconvert_exporter": "python",
   "pygments_lexer": "ipython3",
   "version": "3.9.18"
  },
  "orig_nbformat": 4
 },
 "nbformat": 4,
 "nbformat_minor": 2
}
